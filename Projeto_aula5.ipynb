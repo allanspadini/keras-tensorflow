{
  "cells": [
    {
      "cell_type": "markdown",
      "metadata": {
        "colab_type": "text",
        "id": "view-in-github"
      },
      "source": [
        "[View in Colaboratory](https://colab.research.google.com/github/cassiass/keras-tensorflow/blob/master/Projeto_aula5.ipynb)"
      ]
    },
    {
      "cell_type": "markdown",
      "metadata": {
        "colab_type": "text",
        "id": "sNc3NouWYrN7"
      },
      "source": [
        "Imports"
      ]
    },
    {
      "cell_type": "code",
      "execution_count": null,
      "metadata": {
        "colab": {},
        "colab_type": "code",
        "id": "4bQCahYjYdUB"
      },
      "outputs": [],
      "source": [
        "import tensorflow\n",
        "from tensorflow import keras\n",
        "import matplotlib.pyplot as plt\n",
        "import numpy as np"
      ]
    },
    {
      "cell_type": "markdown",
      "metadata": {
        "colab_type": "text",
        "id": "f8uuzUjVYvkf"
      },
      "source": [
        "Carregando o dataset"
      ]
    },
    {
      "cell_type": "code",
      "execution_count": null,
      "metadata": {
        "colab": {},
        "colab_type": "code",
        "id": "QoIys3wMYirH"
      },
      "outputs": [],
      "source": [
        "dataset = keras.datasets.fashion_mnist\n",
        "((imagens_treino, identificacoes_treino), (imagens_teste, identificacoes_teste)) = dataset.load_data()\n"
      ]
    },
    {
      "cell_type": "markdown",
      "metadata": {
        "colab_type": "text",
        "id": "oFr0526ZY5E_"
      },
      "source": [
        "Exploração dos dados"
      ]
    },
    {
      "cell_type": "code",
      "execution_count": null,
      "metadata": {
        "colab": {
          "base_uri": "https://localhost:8080/",
          "height": 34
        },
        "colab_type": "code",
        "id": "fPIT36hpYl5A",
        "outputId": "c1115b73-38f8-44ee-d16b-9ed85fcea1be"
      },
      "outputs": [
        {
          "data": {
            "text/plain": [
              "9"
            ]
          },
          "execution_count": 8,
          "metadata": {
            "tags": []
          },
          "output_type": "execute_result"
        }
      ],
      "source": [
        "len(imagens_treino)\n",
        "imagens_treino.shape\n",
        "imagens_teste.shape\n",
        "len(identificacoes_teste)\n",
        "identificacoes_treino.min()\n",
        "identificacoes_treino.max()"
      ]
    },
    {
      "cell_type": "markdown",
      "metadata": {
        "colab_type": "text",
        "id": "yTWqT9DIY-iB"
      },
      "source": [
        "Exibição dos dados"
      ]
    },
    {
      "cell_type": "code",
      "execution_count": null,
      "metadata": {
        "colab": {
          "base_uri": "https://localhost:8080/",
          "height": 364
        },
        "colab_type": "code",
        "id": "bGESm49JVahh",
        "outputId": "11546b53-773f-453e-ce77-5105fe2cee6f"
      },
      "outputs": [
        {
          "data": {
            "text/plain": [
              "<matplotlib.colorbar.Colorbar at 0x7f665618a588>"
            ]
          },
          "execution_count": 3,
          "metadata": {
            "tags": []
          },
          "output_type": "execute_result"
        },
        {
          "data": {
            "image/png": "[encoded data removed]",
            "text/plain": [
              "<matplotlib.figure.Figure at 0x7f66561dfa20>"
            ]
          },
          "metadata": {
            "tags": []
          },
          "output_type": "display_data"
        }
      ],
      "source": [
        "total_de_classificacoes = 10\n",
        "nomes_de_classificacoes = ['Camiseta', 'Calça', 'Pullover', \n",
        "                           'Vestido', 'Casaco', 'Sandália', 'Camisa',\n",
        "                           'Tênis', 'Bolsa', 'Bota']\n",
        "'''\n",
        "plt.imshow(imagens_treino[0])\n",
        "plt.title(identificacoes_treino[0])\n",
        "\n",
        "for imagem in range(10):\n",
        "  plt.subplot(2, 5, imagem+1)\n",
        "  plt.imshow(imagens_treino[imagem])\n",
        "  plt.title(nomes_de_classificacoes[identificacoes_treino[imagem]])\n",
        "'''  \n",
        "plt.imshow(imagens_treino[0])\n",
        "plt.colorbar()\n"
      ]
    },
    {
      "cell_type": "code",
      "execution_count": null,
      "metadata": {},
      "outputs": [],
      "source": [
        "#normalização\n",
        "imagens_treino = imagens_treino/float(255)"
      ]
    },
    {
      "cell_type": "code",
      "execution_count": 9,
      "metadata": {
        "colab": {
          "base_uri": "https://localhost:8080/",
          "height": 222
        },
        "colab_type": "code",
        "id": "Ral_hdl9ulGG",
        "outputId": "34eaa022-a1a6-446c-9fe2-c39692c4ae3d"
      },
      "outputs": [
        {
          "name": "stdout",
          "output_type": "stream",
          "text": [
            "Train on 48000 samples, validate on 12000 samples\n",
            "Epoch 1/5\n",
            "48000/48000 [==============================] - 10s 200us/step - loss: 2.3028 - acc: 0.0990 - val_loss: 2.3028 - val_acc: 0.0983\n",
            "Epoch 2/5\n",
            "48000/48000 [==============================] - 9s 190us/step - loss: 2.3028 - acc: 0.0996 - val_loss: 2.3028 - val_acc: 0.0983\n",
            "Epoch 3/5\n",
            "48000/48000 [==============================] - 9s 193us/step - loss: 2.3028 - acc: 0.0985 - val_loss: 2.3029 - val_acc: 0.0958\n",
            "Epoch 4/5\n",
            "48000/48000 [==============================] - 10s 205us/step - loss: 2.3028 - acc: 0.0980 - val_loss: 2.3028 - val_acc: 0.0958\n",
            "Epoch 5/5\n",
            "48000/48000 [==============================] - 9s 196us/step - loss: 2.3028 - acc: 0.1004 - val_loss: 2.3027 - val_acc: 0.0995\n"
          ]
        }
      ],
      "source": [
        "\n",
        "\n",
        "modelo = keras.Sequential([ \n",
        "    keras.layers.Flatten(input_shape=(28, 28)),\n",
        "    keras.layers.Dense(256, activation=tensorflow.nn.relu),\n",
        "    keras.layers.Dense(128, activation=tensorflow.nn.relu),\n",
        "    keras.layers.Dense(64, activation=tensorflow.nn.relu),\n",
        "    keras.layers.Dense(10, activation=tensorflow.nn.softmax)\n",
        "])\n",
        "\n",
        "modelo.compile(optimizer='adam', \n",
        "               loss='sparse_categorical_crossentropy',\n",
        "               metrics=['accuracy'])\n",
        "\n",
        "historico = modelo.fit(imagens_treino, identificacoes_treino, epochs=5, validation_split=0.2)"
      ]
    },
    {
      "cell_type": "code",
      "execution_count": 10,
      "metadata": {
        "colab": {
          "base_uri": "https://localhost:8080/",
          "height": 50
        },
        "colab_type": "code",
        "id": "I2kLEHPYUdhd",
        "outputId": "2cffc8b5-101a-4a45-9490-f8cf3d1d0f53"
      },
      "outputs": [
        {
          "name": "stdout",
          "output_type": "stream",
          "text": [
            "resultado teste: 1\n",
            "número da imagem de teste: 2\n"
          ]
        }
      ],
      "source": [
        "testes = modelo.predict(imagens_teste)\n",
        "print('resultado teste:', np.argmax(testes[1]))\n",
        "print('número da imagem de teste:', identificacoes_teste[1])"
      ]
    },
    {
      "cell_type": "code",
      "execution_count": 11,
      "metadata": {
        "colab": {
          "base_uri": "https://localhost:8080/",
          "height": 67
        },
        "colab_type": "code",
        "id": "wsbr9WqyXQ2G",
        "outputId": "eedc6940-270e-436a-da5a-93e86d6ea372"
      },
      "outputs": [
        {
          "name": "stdout",
          "output_type": "stream",
          "text": [
            "10000/10000 [==============================] - 0s 39us/step\n",
            "Perda do teste: 13.729463269042968\n",
            "Acurácia do teste: 0.1105\n"
          ]
        }
      ],
      "source": [
        "perda_teste, acuracia_teste = modelo.evaluate(imagens_teste, identificacoes_teste)\n",
        "print('Perda do teste:', perda_teste)\n",
        "print('Acurácia do teste:', acuracia_teste)"
      ]
    }
  ],
  "metadata": {
    "colab": {
      "collapsed_sections": [],
      "include_colab_link": true,
      "name": "Projeto_aula5.ipynb",
      "provenance": [],
      "version": "0.3.2"
    },
    "kernelspec": {
      "display_name": "Python 3",
      "name": "python3"
    }
  },
  "nbformat": 4,
  "nbformat_minor": 0
}
